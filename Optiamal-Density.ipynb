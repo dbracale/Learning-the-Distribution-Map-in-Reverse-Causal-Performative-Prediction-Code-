{
 "cells": [
  {
   "cell_type": "code",
   "execution_count": 11,
   "id": "3e6ceb5a-39b6-48e9-bef6-005f79c48044",
   "metadata": {},
   "outputs": [],
   "source": [
    "import matplotlib.pyplot as plt\n",
    "import scipy.optimize as optimize\n",
    "from sklearn.isotonic import IsotonicRegression\n",
    "from utils_binary_responses import *\n",
    "from utils_binary_responses import main_parameters\n",
    "from utils import *\n",
    "from scipy.stats import beta as sp_beta\n",
    "import math\n",
    "\n",
    "from scipy.interpolate import interp1d\n",
    "from scipy.integrate import quad\n",
    "from statsmodels.nonparametric.smoothers_lowess import lowess\n",
    "import numpy as np\n",
    "from tqdm import tqdm\n",
    "import time\n",
    "from scipy.integrate import simps\n",
    "\n",
    "from scipy.interpolate import UnivariateSpline\n",
    "from concurrent.futures import ThreadPoolExecutor"
   ]
  },
  {
   "cell_type": "code",
   "execution_count": 12,
   "id": "e548f2aa-9f8d-417e-bcc2-b03329c43610",
   "metadata": {},
   "outputs": [],
   "source": [
    "inf_X, sup_X, r_q,r_u, wage = main_parameters()\n",
    "\n",
    "def set_parameters(K,T):\n",
    "    L = T // K\n",
    "    batch = [[i + j for j in range(L)] for i in range(0, T, L)]\n",
    "    \n",
    "    RelEff = []\n",
    "    return T, K, L, batch, RelEff"
   ]
  },
  {
   "cell_type": "code",
   "execution_count": 13,
   "id": "f302c21a-a955-4ede-80bd-0ff933bb6eb4",
   "metadata": {},
   "outputs": [],
   "source": [
    "def compute_design(smoothed, design, wage):\n",
    "    x_sequence = np.linspace(0, wage, 1000)\n",
    "    def sum(x):\n",
    "        return smoothed(x) + design(x)*(k+1)\n",
    "\n",
    "    area = simps(np.vectorize(sum)(x_sequence), x_sequence)\n",
    "    area = max(area,10**(-14))\n",
    "\n",
    "    def density(x):\n",
    "        return sum(x)/area\n",
    "    return density \n",
    "\n",
    "def true_sigma(x):\n",
    "        return np.sqrt(F_C(x) * (1 - F_C(x)))\n",
    "    \n",
    "def density_oracle(x):\n",
    "    def true_sigma(x):\n",
    "        return np.sqrt(F_C(x) * (1 - F_C(x)))\n",
    "    x_sequence = np.linspace(-0.001, wage+0.001, 1000)\n",
    "    area = simps(true_sigma(x_sequence), x_sequence)\n",
    "    area = max(area,10**(-14))\n",
    "    \n",
    "    def density(x):\n",
    "        return true_sigma(x) / area\n",
    "    return density(x)\n",
    "\n",
    "def get_W_over_f(f_hat):\n",
    "    true_sigma_square = lambda x: F_C(x) * (1 - F_C(x))\n",
    "    f_hat_2 = lambda x: f_hat(x)#*indicator(x,-10**(-10),wage+10**(-10))\n",
    "    x_sequence = np.linspace(0, wage, 1000)\n",
    "    def ratio(x):\n",
    "        return true_sigma_square(x)/f_hat_2(x)\n",
    "    area = simps(ratio(x_sequence), x_sequence)\n",
    "    area = max(area,10**(-14))\n",
    "    return area\n",
    "\n",
    "def Lambda(x):\n",
    "    return f_q(x)/f_u(x) \n",
    "\n",
    "def indicator_Lambda(x,theta):\n",
    "    if isinstance(x, (int, float)):\n",
    "        return 1 if Lambda(x) > theta else 0\n",
    "        \n",
    "def revenue(X, theta):\n",
    "    r_q = 0.7 #make sure is the same as the ones in utils_binary\n",
    "    r_u = 0.4 #make sure is the same as the ones in utils_binary\n",
    "    pi = F_C(Incentive(theta))\n",
    "    values = [(r_q*pi*f_q(x)-r_u*(1-pi)*f_u(x))*indicator_Lambda(x,theta)/f_X(x,pi) for x in X]\n",
    "    return values\n",
    "\n",
    "def compute_revenue(t):\n",
    "    J = 50\n",
    "    def f_X_sample(x):\n",
    "        return f_X(x, F_C(Incentive(t)))\n",
    "    X = sample_from_pdf(J, f_X_sample, inf_X, sup_X)\n",
    "    return sum(revenue(X, t)) / J"
   ]
  },
  {
   "cell_type": "code",
   "execution_count": 14,
   "id": "f605146f-ecf0-479e-b510-190eff130653",
   "metadata": {},
   "outputs": [],
   "source": [
    "def get_batch_k(k, design, density_oracle, batch, wage, F_C, ordered_I_val, ordered_I_val_oracle, theta, theta_oracle, n, pi_hat, pi_hat_oracle):\n",
    "    # Modified design\n",
    "    current_batch = batch[k]\n",
    "    T_k = len(current_batch)\n",
    "    n_k = np.random.randint(20, 30, size=T_k)\n",
    "    \n",
    "    theta_k, I_val_k = get_theta(T_k, design)\n",
    "    theta_k_oracle, I_val_k_oracle = get_theta(T_k, density_oracle)\n",
    "    \n",
    "    ordered_I_val_k = sorted(I_val_k)\n",
    "    ordered_I_val_k_oracle = sorted(I_val_k_oracle)\n",
    "\n",
    "    ordered_indexes_k = sorted(range(len(I_val_k)), key=lambda k: I_val_k[k])\n",
    "    ordered_indexes_k_oracle = sorted(range(len(I_val_k_oracle)), key=lambda k: I_val_k_oracle[k])\n",
    "    theta_k = [theta_k[i] for i in ordered_indexes_k]\n",
    "    theta_k_oracle = [theta_k_oracle[i] for i in ordered_indexes_k_oracle]\n",
    "    \n",
    "    pi_k = [F_C(x) for x in ordered_I_val_k]\n",
    "    pi_k_oracle = [F_C(x) for x in ordered_I_val_k_oracle]\n",
    "    \n",
    "    pi_hat_k = get_pi_hat(theta_k, n_k, pi_k, plot_hist=False)\n",
    "    pi_hat_k_oracle = get_pi_hat(theta_k_oracle, n_k, pi_k_oracle, plot_hist=False)\n",
    "    \n",
    "    ordered_I_val = np.concatenate([ordered_I_val, ordered_I_val_k])\n",
    "    ordered_I_val_oracle = np.concatenate([ordered_I_val_oracle, ordered_I_val_k_oracle])\n",
    "    theta = np.concatenate([theta,theta_k])\n",
    "    theta_oracle = np.concatenate([theta_oracle,theta_k_oracle])\n",
    "    pi_hat = np.concatenate([pi_hat, pi_hat_k])\n",
    "    pi_hat_oracle = np.concatenate([pi_hat_oracle, pi_hat_k_oracle])\n",
    "    n = np.concatenate([n, n_k])\n",
    "\n",
    "    index = np.argsort(ordered_I_val)\n",
    "    index_oracle = np.argsort(ordered_I_val_oracle)\n",
    "    \n",
    "    ordered_I_val = ordered_I_val[index]\n",
    "    ordered_I_val_oracle = ordered_I_val_oracle[index_oracle]\n",
    "    \n",
    "    pi = [F_C(x) for x in ordered_I_val] \n",
    "    pi_oracle = [F_C(x) for x in ordered_I_val_oracle] \n",
    "    \n",
    "    pi_hat = pi_hat[index]\n",
    "    pi_hat_oracle = pi_hat_oracle[index_oracle]\n",
    "    \n",
    "    sigma_hat = [np.sqrt(p * (1 - p)) for p in pi_hat]\n",
    "    sigma_hat_oracle = [np.sqrt(p * (1 - p)) for p in pi_hat_oracle]\n",
    "    sigma_hat_smooth = UnivariateSpline(ordered_I_val, sigma_hat)\n",
    "    sigma_hat_oracle_smooth = UnivariateSpline(ordered_I_val_oracle, sigma_hat_oracle)\n",
    "    \n",
    "    def sigma_hat_2(x):\n",
    "        return np.maximum(10**(-14), sigma_hat_smooth(x))\n",
    "        \n",
    "    def sigma_hat_oracle_2(x):\n",
    "        return np.maximum(10**(-14), sigma_hat_oracle_smooth(x))\n",
    "    \n",
    "    return ordered_I_val, ordered_I_val_oracle, sigma_hat_2, sigma_hat_oracle_2, pi_hat, pi_hat_oracle, pi, n, theta"
   ]
  },
  {
   "cell_type": "code",
   "execution_count": 15,
   "id": "9405af0b-d345-48a8-ba41-9997b6defafc",
   "metadata": {},
   "outputs": [],
   "source": [
    "def update_design_density(sigma_hat, ordered_I_val, sigma_hat_oracle, ordered_I_val_oracle, design, design_oracle, RelEff, k):\n",
    "    \n",
    "    design = compute_design(sigma_hat, design, wage)\n",
    "    design_oracle = compute_design(sigma_hat_oracle, design_oracle, wage)\n",
    "\n",
    "    W_over_design = get_W_over_f(design)\n",
    "    W_over_design_oracle = get_W_over_f(design_oracle)\n",
    "    ratio = W_over_design_oracle/W_over_design    \n",
    "    RelEff.append(1- ratio ** (4/5))\n",
    "    #print(ratio)\n",
    "    return design, design_oracle, RelEff"
   ]
  },
  {
   "cell_type": "code",
   "execution_count": 16,
   "id": "6f961d66-2d29-4bc8-987c-beeca2b242f3",
   "metadata": {},
   "outputs": [],
   "source": [
    "def plot_generate_axes(sigma, sigma_hat, sigma_hat_oracle, theta, rev_theta_k):\n",
    "    # Plotting sigma\n",
    "    x_sequence = np.linspace(0, wage, 1000).tolist()\n",
    "    axes[0].plot(x_sequence, [sigma(x) for x in x_sequence] , label='$\\sigma$ true', color='red', linestyle='-')\n",
    "    axes[0].plot(x_sequence, [sigma_hat(x) for x in x_sequence], label='$\\hat{\\sigma}$', color='green', linestyle='-')\n",
    "    axes[0].plot(x_sequence, [sigma_hat_oracle(x) for x in x_sequence], label='$\\sigma$ oracle', color='blue', linestyle='-')\n",
    "    axes[0].set_xlabel('$I(\\\\theta)$')\n",
    "    axes[0].set_title('True/Estimated design, batch {}'.format(k))\n",
    "    axes[0].legend()\n",
    "\n",
    "    # Plotting regression\n",
    "    axes[1].plot(theta, rev_theta_k, label='Expected firm revenue', color='red')\n",
    "    axes[1].set_xlabel('$\\\\theta$')\n",
    "    axes[1].set_ylabel('')\n",
    "    axes[1].legend()\n",
    "    axes[1].set_title('Expected firm revenue, batch {}'.format(k))\n",
    "    axes[1].legend(fontsize=6)"
   ]
  },
  {
   "cell_type": "code",
   "execution_count": 17,
   "id": "e10711fa-a3ae-48c3-b269-9181d33a5fe8",
   "metadata": {},
   "outputs": [],
   "source": [
    "F_C_names = ['Beta(3,4)','Beta(3,3)','Beta(4,3)'] #['Gaussian','Laplace', 'Logistic','Beta']"
   ]
  },
  {
   "cell_type": "code",
   "execution_count": 18,
   "id": "343c188c-5860-4768-acf6-6c968d949a4d",
   "metadata": {},
   "outputs": [],
   "source": [
    "number_of_evaluations = 10 #50\n",
    "T = 500 #number of total deployments #50\n",
    "K = math.floor(T**(2/5)*2) #number of batches"
   ]
  },
  {
   "cell_type": "code",
   "execution_count": 19,
   "id": "80131c4f-356b-425c-ab0c-88733a858599",
   "metadata": {},
   "outputs": [],
   "source": [
    "execute_revenue = False\n",
    "if execute_revenue == True:\n",
    "    data_dict = {}\n",
    "    for F_C_name in F_C_names:\n",
    "        data_dict[F_C_name] = [np.zeros((K, number_of_evaluations)),np.zeros((K, number_of_evaluations))]\n",
    "else:\n",
    "    data_dict = {}\n",
    "    for F_C_name in F_C_names:\n",
    "        data_dict[F_C_name] = np.zeros((K, number_of_evaluations))\n",
    "        \n",
    "def mean_and_ci(matrix):\n",
    "    mean_vals = np.mean(matrix, axis=1)\n",
    "    ci_low = np.percentile(matrix, 5, axis=1)\n",
    "    ci_high = np.percentile(matrix, 95, axis=1)\n",
    "    return mean_vals, ci_low, ci_high\n",
    "\n",
    "inf_X = -5\n",
    "sup_X = 5\n",
    "disply_plot = False"
   ]
  },
  {
   "cell_type": "code",
   "execution_count": 20,
   "id": "c8b26900-196f-4e7d-803a-c3ed5a1a7658",
   "metadata": {},
   "outputs": [
    {
     "name": "stdout",
     "output_type": "stream",
     "text": [
      "Running: F_C=Beta(3,4), evaluation number 1\n"
     ]
    },
    {
     "name": "stderr",
     "output_type": "stream",
     "text": [
      "                                                                                \r"
     ]
    },
    {
     "name": "stdout",
     "output_type": "stream",
     "text": [
      "Running: F_C=Beta(3,4), evaluation number 2\n"
     ]
    },
    {
     "name": "stderr",
     "output_type": "stream",
     "text": [
      "                                                                                \r"
     ]
    },
    {
     "name": "stdout",
     "output_type": "stream",
     "text": [
      "Running: F_C=Beta(3,4), evaluation number 3\n"
     ]
    },
    {
     "name": "stderr",
     "output_type": "stream",
     "text": [
      "                                                                                \r"
     ]
    },
    {
     "name": "stdout",
     "output_type": "stream",
     "text": [
      "Running: F_C=Beta(3,4), evaluation number 4\n"
     ]
    },
    {
     "name": "stderr",
     "output_type": "stream",
     "text": [
      "                                                                                \r"
     ]
    },
    {
     "name": "stdout",
     "output_type": "stream",
     "text": [
      "Running: F_C=Beta(3,4), evaluation number 5\n"
     ]
    },
    {
     "name": "stderr",
     "output_type": "stream",
     "text": [
      "                                                                                \r"
     ]
    },
    {
     "name": "stdout",
     "output_type": "stream",
     "text": [
      "Running: F_C=Beta(3,4), evaluation number 6\n"
     ]
    },
    {
     "name": "stderr",
     "output_type": "stream",
     "text": [
      "                                                                                \r"
     ]
    },
    {
     "name": "stdout",
     "output_type": "stream",
     "text": [
      "Running: F_C=Beta(3,4), evaluation number 7\n"
     ]
    },
    {
     "name": "stderr",
     "output_type": "stream",
     "text": [
      "                                                                                \r"
     ]
    },
    {
     "name": "stdout",
     "output_type": "stream",
     "text": [
      "Running: F_C=Beta(3,4), evaluation number 8\n"
     ]
    },
    {
     "name": "stderr",
     "output_type": "stream",
     "text": [
      "                                                                                \r"
     ]
    },
    {
     "name": "stdout",
     "output_type": "stream",
     "text": [
      "Running: F_C=Beta(3,4), evaluation number 9\n"
     ]
    },
    {
     "name": "stderr",
     "output_type": "stream",
     "text": [
      "                                                                                \r"
     ]
    },
    {
     "name": "stdout",
     "output_type": "stream",
     "text": [
      "Running: F_C=Beta(3,4), evaluation number 10\n"
     ]
    },
    {
     "name": "stderr",
     "output_type": "stream",
     "text": [
      "                                                                                \r"
     ]
    },
    {
     "name": "stdout",
     "output_type": "stream",
     "text": [
      "Running: F_C=Beta(3,3), evaluation number 1\n"
     ]
    },
    {
     "name": "stderr",
     "output_type": "stream",
     "text": [
      "                                                                                \r"
     ]
    },
    {
     "name": "stdout",
     "output_type": "stream",
     "text": [
      "Running: F_C=Beta(3,3), evaluation number 2\n"
     ]
    },
    {
     "name": "stderr",
     "output_type": "stream",
     "text": [
      "                                                                                \r"
     ]
    },
    {
     "name": "stdout",
     "output_type": "stream",
     "text": [
      "Running: F_C=Beta(3,3), evaluation number 3\n"
     ]
    },
    {
     "name": "stderr",
     "output_type": "stream",
     "text": [
      "                                                                                \r"
     ]
    },
    {
     "name": "stdout",
     "output_type": "stream",
     "text": [
      "Running: F_C=Beta(3,3), evaluation number 4\n"
     ]
    },
    {
     "name": "stderr",
     "output_type": "stream",
     "text": [
      "                                                                                \r"
     ]
    },
    {
     "name": "stdout",
     "output_type": "stream",
     "text": [
      "Running: F_C=Beta(3,3), evaluation number 5\n"
     ]
    },
    {
     "name": "stderr",
     "output_type": "stream",
     "text": [
      "                                                                                \r"
     ]
    },
    {
     "name": "stdout",
     "output_type": "stream",
     "text": [
      "Running: F_C=Beta(3,3), evaluation number 6\n"
     ]
    },
    {
     "name": "stderr",
     "output_type": "stream",
     "text": [
      "                                                                                \r"
     ]
    },
    {
     "name": "stdout",
     "output_type": "stream",
     "text": [
      "Running: F_C=Beta(3,3), evaluation number 7\n"
     ]
    },
    {
     "name": "stderr",
     "output_type": "stream",
     "text": [
      "                                                                                \r"
     ]
    },
    {
     "name": "stdout",
     "output_type": "stream",
     "text": [
      "Running: F_C=Beta(3,3), evaluation number 8\n"
     ]
    },
    {
     "name": "stderr",
     "output_type": "stream",
     "text": [
      "                                                                                \r"
     ]
    },
    {
     "name": "stdout",
     "output_type": "stream",
     "text": [
      "Running: F_C=Beta(3,3), evaluation number 9\n"
     ]
    },
    {
     "name": "stderr",
     "output_type": "stream",
     "text": [
      "                                                                                \r"
     ]
    },
    {
     "name": "stdout",
     "output_type": "stream",
     "text": [
      "Running: F_C=Beta(3,3), evaluation number 10\n"
     ]
    },
    {
     "name": "stderr",
     "output_type": "stream",
     "text": [
      "                                                                                \r"
     ]
    },
    {
     "name": "stdout",
     "output_type": "stream",
     "text": [
      "Running: F_C=Beta(4,3), evaluation number 1\n"
     ]
    },
    {
     "name": "stderr",
     "output_type": "stream",
     "text": [
      "                                                                                \r"
     ]
    },
    {
     "name": "stdout",
     "output_type": "stream",
     "text": [
      "Running: F_C=Beta(4,3), evaluation number 2\n"
     ]
    },
    {
     "name": "stderr",
     "output_type": "stream",
     "text": [
      "                                                                                \r"
     ]
    },
    {
     "name": "stdout",
     "output_type": "stream",
     "text": [
      "Running: F_C=Beta(4,3), evaluation number 3\n"
     ]
    },
    {
     "name": "stderr",
     "output_type": "stream",
     "text": [
      "                                                                                \r"
     ]
    },
    {
     "name": "stdout",
     "output_type": "stream",
     "text": [
      "Running: F_C=Beta(4,3), evaluation number 4\n"
     ]
    },
    {
     "name": "stderr",
     "output_type": "stream",
     "text": [
      "                                                                                \r"
     ]
    },
    {
     "name": "stdout",
     "output_type": "stream",
     "text": [
      "Running: F_C=Beta(4,3), evaluation number 5\n"
     ]
    },
    {
     "name": "stderr",
     "output_type": "stream",
     "text": [
      "                                                                                \r"
     ]
    },
    {
     "name": "stdout",
     "output_type": "stream",
     "text": [
      "Running: F_C=Beta(4,3), evaluation number 6\n"
     ]
    },
    {
     "name": "stderr",
     "output_type": "stream",
     "text": [
      "                                                                                \r"
     ]
    },
    {
     "name": "stdout",
     "output_type": "stream",
     "text": [
      "Running: F_C=Beta(4,3), evaluation number 7\n"
     ]
    },
    {
     "name": "stderr",
     "output_type": "stream",
     "text": [
      "                                                                                \r"
     ]
    },
    {
     "name": "stdout",
     "output_type": "stream",
     "text": [
      "Running: F_C=Beta(4,3), evaluation number 8\n"
     ]
    },
    {
     "name": "stderr",
     "output_type": "stream",
     "text": [
      "                                                                                \r"
     ]
    },
    {
     "name": "stdout",
     "output_type": "stream",
     "text": [
      "Running: F_C=Beta(4,3), evaluation number 9\n"
     ]
    },
    {
     "name": "stderr",
     "output_type": "stream",
     "text": [
      "                                                                                \r"
     ]
    },
    {
     "name": "stdout",
     "output_type": "stream",
     "text": [
      "Running: F_C=Beta(4,3), evaluation number 10\n"
     ]
    },
    {
     "name": "stderr",
     "output_type": "stream",
     "text": [
      "                                                                                \r"
     ]
    },
    {
     "data": {
      "image/png": "[encoded data removed]",
      "text/plain": [
       "<Figure size 1000x600 with 1 Axes>"
      ]
     },
     "metadata": {},
     "output_type": "display_data"
    }
   ],
   "source": [
    "axis_font_size = 14\n",
    "for F_C_name, matrices in data_dict.items(): #The first matrix is Rel_Eff, The second is the Revenue\n",
    "    F_C = get_cdf(F_C_name)\n",
    "    if execute_revenue == True:\n",
    "        # Compute theta that maximize the revenue\n",
    "        theta_sequence = np.linspace(inf_X, sup_X, 100)\n",
    "        maxima_rev = 0\n",
    "        theta_max_rev = theta_sequence[0]\n",
    "        for t in theta_sequence:\n",
    "            rev = compute_revenue(t)\n",
    "            if rev > maxima_rev:\n",
    "                maxima_rev = rev\n",
    "                theta_max_rev = t\n",
    "\n",
    "    # Start evaluations \n",
    "    for eval in range(number_of_evaluations):\n",
    "        print(\"Running: F_C={}, evaluation number {}\".format(F_C_name, eval+1))\n",
    "        \n",
    "        T, K, L, batch, RelEff = set_parameters(K,T)\n",
    "        ordered_I_val= []\n",
    "        ordered_I_val_oracle = []\n",
    "        n = []\n",
    "        pi_hat = []\n",
    "        pi_hat_oracle = []\n",
    "        theta = []\n",
    "        theta_oracle = []\n",
    "        \n",
    "        if disply_plot == True and eval == 0:\n",
    "            fig_intermediate, axes = plt.subplots(1 , 2, figsize=(10, 4))\n",
    "            plt.suptitle('Optimal sequential design with $F_C$= {}'.format(F_C_name,), fontsize=16)\n",
    "        \n",
    "        iterable = range(K)\n",
    "        for k in tqdm(iterable, desc=\"Processing items\", unit=\"item\", leave=False):\n",
    "            design = lambda x: indicator(x,0,wage)/wage\n",
    "            design_oracle = lambda x: indicator(x,0,wage)/wage\n",
    "            \n",
    "            #compute design\n",
    "            ordered_I_val, ordered_I_val_oracle, sigma_hat, sigma_hat_oracle, pi_hat, pi_hat_oracle, pi, n, theta = get_batch_k(k, design, density_oracle, batch, wage, F_C, ordered_I_val, ordered_I_val_oracle, theta, theta_oracle, n, pi_hat, pi_hat_oracle)\n",
    "            \n",
    "            #compute revenue at batch k\n",
    "            if execute_revenue == True:\n",
    "                rev = compute_revenue(theta_max_rev)\n",
    "                matrices[1][k,eval] = maxima_rev-rev\n",
    "                #print('{}-th revenue is {}'.format(k,maxima_rev-rev))\n",
    "                    \n",
    "            design, design_oracle, RelEff = update_design_density(sigma_hat, ordered_I_val, sigma_hat_oracle, ordered_I_val_oracle, design, design_oracle, RelEff, k)\n",
    "\n",
    "        if eval == 0:\n",
    "            sigma_hat_sum = lambda x: sigma_hat(x)\n",
    "            sigma_hat_oracle_sum = lambda x: sigma_hat_oracle(x)\n",
    "        else:\n",
    "            sigma_hat_sum_old = sigma_hat_sum\n",
    "            sigma_hat_oracle_sum_old = sigma_hat_oracle_sum\n",
    "            sigma_hat_sum = lambda x: sigma_hat_sum_old(x) + sigma_hat(x)\n",
    "            sigma_hat_oracle_sum = lambda x: sigma_hat_oracle_sum_old(x) + sigma_hat_oracle(x)\n",
    "\n",
    "        def sigma_hat_aver(x):\n",
    "            return sigma_hat_sum(x)/number_of_evaluations\n",
    "        def sigma_hat_oracle_aver(x): \n",
    "            return sigma_hat_oracle_sum(x)/number_of_evaluations\n",
    "    \n",
    "        if execute_revenue == True:\n",
    "            matrices[0][:,eval] = RelEff\n",
    "        else:\n",
    "            matrices[:,eval] = RelEff\n",
    "            \n",
    "        if disply_plot == True:\n",
    "            plot_generate_axes(true_sigma, sigma_hat_aver, sigma_hat_oracle_aver, sorted(theta), rev_theta_k)\n",
    "            plt.tight_layout()  # Adjust layout spacing\n",
    "            plt.savefig('plots/design:{}.png'.format(F_C_name), bbox_inches='tight', dpi=300, transparent=False)\n",
    "            plt.show()\n",
    "            plt.close(fig_intermediate)\n",
    "\n",
    "if execute_revenue == True:\n",
    "    fig, ax = plt.subplots(1, 2, figsize=(10, 6))\n",
    "    # Plot the data for each F_C on this final plot\n",
    "    for F_C_name, matrices in data_dict.items():\n",
    "        mean_vals_eff, ci_low_eff, ci_high_eff = mean_and_ci(matrices[0])\n",
    "        mean_vals_rev, ci_low_rev, ci_high_rev = mean_and_ci(matrices[1])\n",
    "        ax[0].plot(range(2, K + 1), mean_vals_eff[1:], label=\"$F_C$= {}\".format(F_C_name))\n",
    "        ax[0].fill_between(range(2, K + 1), ci_low_eff[1:], ci_high_eff[1:], alpha=0.2)\n",
    "        ax[1].plot(range(2, K + 1), mean_vals_rev[1:], label=\"$F_C$= {}\".format(F_C_name))\n",
    "        ax[1].fill_between(range(2, K + 1), ci_low_rev[1:], ci_high_rev[1:], alpha=0.2)\n",
    "    \n",
    "    ax[0].axhline(y=0, color='red', linestyle='--')\n",
    "    ax[0].set_xlabel('Batch',fontsize=14)\n",
    "    ax[0].set_ylabel('Relative Efficiency',fontsize=14)\n",
    "    ax[0].set_title('Relative Efficiency',fontsize=14)\n",
    "    ax[0].legend()\n",
    "    plt.show()\n",
    "\n",
    "else:\n",
    "    fig, ax = plt.subplots(figsize=(10, 6))\n",
    "    # Plot the data for each F_C on this final plot\n",
    "    for F_C_name, matrices in data_dict.items():\n",
    "        mean_vals_eff, ci_low_eff, ci_high_eff = mean_and_ci(matrices)\n",
    "        ax.plot(range(2, K + 1), mean_vals_eff[1:], label=\"$F_C$= {}\".format(F_C_name))\n",
    "        ax.fill_between(range(2, K + 1), ci_low_eff[1:], ci_high_eff[1:], alpha=0.2)\n",
    "    \n",
    "    ax.axhline(y=0, color='red', linestyle='--')\n",
    "    ax.set_xlabel('Episode',fontsize=18)\n",
    "    ax.set_ylabel('Relative Efficiency',fontsize=18)\n",
    "    ax.set_title('REL for three different CDF',fontsize=18)\n",
    "    plt.xticks(fontsize=axis_font_size)  # Set x-axis tick font size\n",
    "    plt.yticks(fontsize=axis_font_size)  # Set y-axis tick font size\n",
    "    ax.legend(fontsize=16)\n",
    "    plt.savefig('plots/RelEff:{}.png'.format(F_C_name), bbox_inches='tight', dpi=300, transparent=False)\n",
    "    plt.show()"
   ]
  },
  {
   "cell_type": "code",
   "execution_count": null,
   "id": "0817a2a5-3abf-4a06-9c8b-1817e9d4f0a7",
   "metadata": {},
   "outputs": [],
   "source": []
  },
  {
   "cell_type": "code",
   "execution_count": null,
   "id": "f19f182a-a6bf-446d-b9d6-fff5f36a03e5",
   "metadata": {},
   "outputs": [],
   "source": []
  },
  {
   "cell_type": "code",
   "execution_count": null,
   "id": "9d203f87-89f4-45f0-a754-54e427ec41d4",
   "metadata": {},
   "outputs": [],
   "source": []
  }
 ],
 "metadata": {
  "kernelspec": {
   "display_name": "Python 3 (ipykernel)",
   "language": "python",
   "name": "python3"
  },
  "language_info": {
   "codemirror_mode": {
    "name": "ipython",
    "version": 3
   },
   "file_extension": ".py",
   "mimetype": "text/x-python",
   "name": "python",
   "nbconvert_exporter": "python",
   "pygments_lexer": "ipython3",
   "version": "3.11.4"
  }
 },
 "nbformat": 4,
 "nbformat_minor": 5
}
